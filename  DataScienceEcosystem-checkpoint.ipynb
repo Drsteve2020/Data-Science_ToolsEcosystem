{
 "cells": [
  {
   "cell_type": "markdown",
   "id": "5dc8a4af",
   "metadata": {},
   "source": [
    "#  DataScienceEcosystem\n"
   ]
  },
  {
   "cell_type": "markdown",
   "id": "826d1136",
   "metadata": {},
   "source": [
    "# Data Science Tools and Ecosystem"
   ]
  },
  {
   "cell_type": "markdown",
   "id": "aca45a9c",
   "metadata": {},
   "source": [
    "In this notebook, Data Science Tools and Ecosystem are summarized."
   ]
  },
  {
   "cell_type": "markdown",
   "id": "223bb6f2",
   "metadata": {},
   "source": [
    "# Objectives:\n",
    "- Some of the popular languages that Data Scientists use \n",
    "- Some of the commonly used libraries used by Data Scientists\n",
    "- Data Science tools\n",
    "- examples of evaluating arithmetic expressions in Python\n",
    "- converting minutes in to hours"
   ]
  },
  {
   "cell_type": "markdown",
   "id": "baae286e",
   "metadata": {},
   "source": [
    "Some of the popular languages that Data Scientists use are:\n",
    "1. python\n",
    "2. SQL\n",
    "3. R\n",
    "4. Scala\n",
    "5. java\n",
    "6. C++\n",
    "8. Ruby"
   ]
  },
  {
   "cell_type": "markdown",
   "id": "0682ab18",
   "metadata": {},
   "source": [
    "Some of the commonly used libraries used by Data Scientists include:\n",
    "1. pandas\n",
    "2. numpy\n",
    "3. scipy\n",
    "4. matplotlib\n",
    "4. pytorch\n",
    "5. scikit-learn\n",
    "6. keras"
   ]
  },
  {
   "cell_type": "markdown",
   "id": "843832f5",
   "metadata": {},
   "source": [
    "| S/N | Data Science Tools |\n",
    "| --- | --- |\n",
    "| 1. | jupyter lab |\n",
    "| 2. | Apache Zepplin |\n",
    "| 3. | R Studio |\n",
    "| 4. | Spyder |"
   ]
  },
  {
   "cell_type": "markdown",
   "id": "73378299",
   "metadata": {},
   "source": [
    "### Below are a few examples of evaluating arithmetic expressions in Python"
   ]
  },
  {
   "cell_type": "code",
   "execution_count": 1,
   "id": "b54672ea",
   "metadata": {},
   "outputs": [
    {
     "data": {
      "text/plain": [
       "17.0"
      ]
     },
     "execution_count": 1,
     "metadata": {},
     "output_type": "execute_result"
    }
   ],
   "source": [
    "(3*4)+5.\n",
    "# This a simple arithmetic expression to mutiply then add integers."
   ]
  },
  {
   "cell_type": "code",
   "execution_count": 6,
   "id": "8ed9c83b",
   "metadata": {},
   "outputs": [
    {
     "name": "stdout",
     "output_type": "stream",
     "text": [
      "200\n",
      "3\n"
     ]
    }
   ],
   "source": [
    "#convert 200 minutes in hours\n",
    "n = int(input())\n",
    "hours = int(n % 1440) // 60\n",
    "print(hours)\n",
    "# This will convert 200 minutes to hours by diving by 60"
   ]
  },
  {
   "cell_type": "markdown",
   "id": "fbadebdc",
   "metadata": {},
   "source": [
    "# Author:\n",
    "## Stephen Aigbepue"
   ]
  },
  {
   "cell_type": "code",
   "execution_count": null,
   "id": "1d6308cc",
   "metadata": {},
   "outputs": [],
   "source": []
  }
 ],
 "metadata": {
  "kernelspec": {
   "display_name": "Python 3 (ipykernel)",
   "language": "python",
   "name": "python3"
  },
  "language_info": {
   "codemirror_mode": {
    "name": "ipython",
    "version": 3
   },
   "file_extension": ".py",
   "mimetype": "text/x-python",
   "name": "python",
   "nbconvert_exporter": "python",
   "pygments_lexer": "ipython3",
   "version": "3.9.13"
  }
 },
 "nbformat": 4,
 "nbformat_minor": 5
}
